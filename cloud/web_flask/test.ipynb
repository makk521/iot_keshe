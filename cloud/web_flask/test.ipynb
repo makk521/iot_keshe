{
 "cells": [
  {
   "cell_type": "code",
   "execution_count": null,
   "metadata": {},
   "outputs": [],
   "source": []
  }
 ],
 "metadata": {
  "kernelspec": {
   "display_name": "Python 3",
   "language": "python",
   "name": "python3"
  },
  "language_info": {
   "name": "python",
   "version": "3.7.9"
  },
  "orig_nbformat": 4,
  "vscode": {
   "interpreter": {
    "hash": "a23257344542c70b70a498512f46db94a3a7f44d371a6893c689768adca66338"
   }
  }
 },
 "nbformat": 4,
 "nbformat_minor": 2
}
