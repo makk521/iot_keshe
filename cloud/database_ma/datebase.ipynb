{
 "cells": [
  {
   "cell_type": "code",
   "execution_count": 8,
   "metadata": {},
   "outputs": [],
   "source": [
    "import sqlite3\n",
    "\n",
    "db = sqlite3.connect(\"name_database.db\")"
   ]
  },
  {
   "cell_type": "code",
   "execution_count": 3,
   "metadata": {},
   "outputs": [],
   "source": [
    "# create a database called name_database.db\n",
    "# add one table to the database called names_table\n",
    "# add columns to the database table: Id, first_name, last_name, age \n",
    "conn = sqlite3.connect('name_database.db')\n",
    "cur = conn.cursor()\n",
    "cur.execute(\"\"\"CREATE TABLE IF NOT EXISTS names_table (\n",
    "    Id INTEGER PRIMARY KEY AUTOINCREMENT,\n",
    "    first_name text,\n",
    "    last_name text,\n",
    "    age integer\n",
    "    )\"\"\")\n",
    "conn.commit()\n",
    "\n",
    "cur.close()\n",
    "conn.close()\n",
    "db.close()"
   ]
  },
  {
   "cell_type": "code",
   "execution_count": 4,
   "metadata": {},
   "outputs": [],
   "source": [
    "conn = sqlite3.connect('name_database.db')\n",
    "cur = conn.cursor()\n",
    "cur.execute(\"INSERT INTO names_table VALUES(:Id, :first_name, :last_name, :age)\",\n",
    "              {'Id': None,\n",
    "               'first_name': 'Gabriella',\n",
    "               'last_name': 'Louise',\n",
    "               'age': int(8)\n",
    "              })\n",
    "conn.commit()\n",
    "cur.close()\n",
    "conn.close()"
   ]
  },
  {
   "cell_type": "code",
   "execution_count": 5,
   "metadata": {},
   "outputs": [
    {
     "name": "stdout",
     "output_type": "stream",
     "text": [
      "('Gabriella', 'Louise', 8, 1)\n"
     ]
    }
   ],
   "source": [
    "conn = sqlite3.connect('name_database.db')\n",
    "cur = conn.cursor()\n",
    "cur.execute(\"SELECT first_name, last_name, age, MAX(rowid) FROM names_table\")\n",
    "record = cur.fetchone()\n",
    "print(record)\n",
    "cur.close()\n",
    "conn.close()"
   ]
  },
  {
   "cell_type": "code",
   "execution_count": 6,
   "metadata": {},
   "outputs": [],
   "source": [
    "conn = sqlite3.connect('name_database.db')\n",
    "cur = conn.cursor()\n",
    "cur.execute(\"INSERT INTO names_table VALUES(:Id, :first_name, :last_name, :age)\",\n",
    "              {'Id': None,\n",
    "               'first_name': 'Maelle',\n",
    "               'last_name': 'Levin',\n",
    "               'age': int(5)\n",
    "              })\n",
    "conn.commit()\n",
    "cur.close()\n",
    "conn.close()"
   ]
  },
  {
   "cell_type": "code",
   "execution_count": 7,
   "metadata": {},
   "outputs": [
    {
     "name": "stdout",
     "output_type": "stream",
     "text": [
      "('Maelle', 'Levin', 5, 2)\n"
     ]
    }
   ],
   "source": [
    "conn = sqlite3.connect('name_database.db')\n",
    "cur = conn.cursor()\n",
    "cur.execute(\"SELECT first_name, last_name, age, MAX(rowid) FROM names_table\")\n",
    "record = cur.fetchone()\n",
    "print(record)\n",
    "cur.close()\n",
    "conn.close()"
   ]
  },
  {
   "attachments": {},
   "cell_type": "markdown",
   "metadata": {},
   "source": [
    "### 网页使用"
   ]
  },
  {
   "cell_type": "code",
   "execution_count": 11,
   "metadata": {},
   "outputs": [],
   "source": [
    "import sqlite3\n",
    "import datetime\n",
    "import pytz\n",
    "import os"
   ]
  },
  {
   "cell_type": "code",
   "execution_count": 12,
   "metadata": {},
   "outputs": [],
   "source": [
    "if not os.path.isfile('data.db'):\n",
    "    conn = sqlite3.connect('data.db')\n",
    "    c = conn.cursor()\n",
    "    c.execute(\"\"\"CREATE TABLE data (\n",
    "        Id INTEGER PRIMARY KEY AUTOINCREMENT,\n",
    "        API_key text,\n",
    "        date_time text,\n",
    "        mac text,\n",
    "        field integer,\n",
    "        data real\n",
    "        )\"\"\")\n",
    "    conn.commit()\n",
    "    conn.close()"
   ]
  },
  {
   "cell_type": "code",
   "execution_count": 14,
   "metadata": {},
   "outputs": [],
   "source": [
    "def date_save(api_key,mac,field,data):\n",
    "    conn = sqlite3.connect('data.db')\n",
    "    c = conn.cursor()\n",
    "    t = datetime.datetime.now(tz=pytz.utc)\n",
    "    date_time_str = t.isoformat()\n",
    "    c.execute(\"INSERT INTO data VALUES(:Id, :API_key, :date_time, :mac, :field, :data)\",\n",
    "            {'Id': None, 'API_key': api_key, 'date_time': date_time_str, 'mac': mac, 'field': int(field),\n",
    "            'data': round(float(data), 4)})\n",
    "    conn.commit()\n",
    "    c.close()\n",
    "    conn.close()\n"
   ]
  },
  {
   "cell_type": "code",
   "execution_count": 19,
   "metadata": {},
   "outputs": [],
   "source": [
    "# date_save('DTLZ3LBY','5m:ct:7f:3b:0d:a8',2,15.2)\n",
    "date_save('DTLZ3LBY','5m:ct:7f:3b:0d:a8',3,15.2)\n",
    "date_save('DTLZ3LBY','5m:ct:7f:3b:0d:a8',4,15.2)\n",
    "date_save('DTLZ3LBY','5m:ct:7f:3b:0d:a8',5,15.2)"
   ]
  },
  {
   "attachments": {},
   "cell_type": "markdown",
   "metadata": {},
   "source": [
    "| rowid  | api_key|   mac  | field |   data |  \n",
    "| ------ | ------ | ------ |------ | ------ |\n",
    "|   1    |DTLZ3LBY|  |\n"
   ]
  },
  {
   "cell_type": "code",
   "execution_count": 78,
   "metadata": {},
   "outputs": [
    {
     "name": "stdout",
     "output_type": "stream",
     "text": [
      "None (4,)\n"
     ]
    }
   ],
   "source": [
    "# 查询\n",
    "conn = sqlite3.connect('data.db')\n",
    "c = conn.cursor()\n",
    "max_id = c.execute(\"SELECT MAX(rowid) FROM data \").fetchone()\n",
    "# sql = \"SELECT data, date_time, field FROM data where rowid = %s\"%(2)\n",
    "# c.execute(sql)  #最新一条\n",
    "c.execute(\"delete from data where rowid = 4\")  #第一条\n",
    "row1 = c.fetchone()\n",
    "print(row1,max_id)"
   ]
  },
  {
   "cell_type": "code",
   "execution_count": 82,
   "metadata": {},
   "outputs": [
    {
     "data": {
      "text/plain": [
       "{0: (15.2, '2023-02-11T06:52:25.043300+00:00', 5),\n",
       " 1: (15.2, '2023-02-11T06:52:25.037316+00:00', 4),\n",
       " 2: (15.2, '2023-02-11T06:52:25.028341+00:00', 3)}"
      ]
     },
     "execution_count": 82,
     "metadata": {},
     "output_type": "execute_result"
    }
   ],
   "source": [
    "# 查询最新3条\n",
    "def select_3data():\n",
    "    tem = {}\n",
    "    conn = sqlite3.connect('data.db')\n",
    "    c = conn.cursor()\n",
    "    max_id = c.execute(\"SELECT MAX(rowid) FROM data \").fetchone()[0]\n",
    "\n",
    "    for i in range(3):\n",
    "        sql = \"SELECT data, date_time, field FROM data where rowid = %s\"%(max_id-i)\n",
    "        tem[i] = c.execute(sql).fetchone()  #最新一条\n",
    "    return tem\n",
    "select_3data()"
   ]
  },
  {
   "cell_type": "code",
   "execution_count": 83,
   "metadata": {},
   "outputs": [
    {
     "ename": "KeyError",
     "evalue": "0",
     "output_type": "error",
     "traceback": [
      "\u001b[1;31m---------------------------------------------------------------------------\u001b[0m",
      "\u001b[1;31mKeyError\u001b[0m                                  Traceback (most recent call last)",
      "\u001b[1;32m~\\AppData\\Local\\Temp/ipykernel_2140/2988063692.py\u001b[0m in \u001b[0;36m<module>\u001b[1;34m\u001b[0m\n\u001b[1;32m----> 1\u001b[1;33m \u001b[0mtem\u001b[0m\u001b[1;33m[\u001b[0m\u001b[1;36m0\u001b[0m\u001b[1;33m]\u001b[0m\u001b[1;33m\u001b[0m\u001b[1;33m\u001b[0m\u001b[0m\n\u001b[0m",
      "\u001b[1;31mKeyError\u001b[0m: 0"
     ]
    }
   ],
   "source": []
  }
 ],
 "metadata": {
  "kernelspec": {
   "display_name": "Python 3",
   "language": "python",
   "name": "python3"
  },
  "language_info": {
   "codemirror_mode": {
    "name": "ipython",
    "version": 3
   },
   "file_extension": ".py",
   "mimetype": "text/x-python",
   "name": "python",
   "nbconvert_exporter": "python",
   "pygments_lexer": "ipython3",
   "version": "3.7.9"
  },
  "orig_nbformat": 4,
  "vscode": {
   "interpreter": {
    "hash": "a23257344542c70b70a498512f46db94a3a7f44d371a6893c689768adca66338"
   }
  }
 },
 "nbformat": 4,
 "nbformat_minor": 2
}
